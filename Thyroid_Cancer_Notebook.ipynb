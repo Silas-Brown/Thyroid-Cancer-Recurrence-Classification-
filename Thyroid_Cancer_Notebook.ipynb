{
  "cells": [
    {
      "cell_type": "markdown",
      "metadata": {
        "id": "1I0B4H29IljQ"
      },
      "source": [
        "# **Contents**\n",
        "\n",
        "\n",
        "* (1) Preprocessing and feature engineering\n",
        "* (2) Generating and analyzing models\n",
        "* (3) Feature importance and model pruning\n",
        "* (4) Practical meaning of the model\n",
        "\n",
        "\n"
      ]
    },
    {
      "cell_type": "markdown",
      "metadata": {
        "id": "blU0fglPLglk"
      },
      "source": [
        "# Predicting thyroid cancer recurrence: Introduction and summary\n",
        "\n",
        "\n",
        "This project uses a [dataset](https://archive.ics.uci.edu/dataset/915/differentiated+thyroid+cancer+recurrence) consisting of 383 observations and 16 features (383x16 data matrix) based on the medical history of patients and one target feature representing the recurrence of previous thyroid cancer. PR_AUC was used as a model selection metric. A linear SVM model was selected and bootstrapped confidence intervals was used for feature selection. The final, pruned model yielded a PR_AUC of 97%, a recall of 90%, and a precision of 94% all for a singular holdout set.\n",
        "\n",
        "\n",
        "\n",
        "\n"
      ]
    },
    {
      "cell_type": "markdown",
      "metadata": {
        "id": "x5W1ZtTvQsj-"
      },
      "source": [
        "# **(1)** Preprocessing and feature engineering\n",
        "\n",
        "This section prepares the data for model generation. Missing values and outliers will be addressed. Encoding and ranking features, then some feature engineering.\n",
        "\n"
      ]
    },
    {
      "cell_type": "code",
      "execution_count": null,
      "metadata": {
        "colab": {
          "base_uri": "https://localhost:8080/"
        },
        "collapsed": true,
        "id": "AB9WF-NdLbHw",
        "outputId": "7f1fb44d-0a6a-4139-cdd6-68433da9c137"
      },
      "outputs": [
        {
          "name": "stdout",
          "output_type": "stream",
          "text": [
            "   Age Gender Smoking Hx Smoking Hx Radiothreapy Thyroid Function  \\\n",
            "0   27      F      No         No              No        Euthyroid   \n",
            "1   34      F      No        Yes              No        Euthyroid   \n",
            "2   30      F      No         No              No        Euthyroid   \n",
            "3   62      F      No         No              No        Euthyroid   \n",
            "4   62      F      No         No              No        Euthyroid   \n",
            "\n",
            "          Physical Examination Adenopathy       Pathology     Focality Risk  \\\n",
            "0   Single nodular goiter-left         No  Micropapillary    Uni-Focal  Low   \n",
            "1          Multinodular goiter         No  Micropapillary    Uni-Focal  Low   \n",
            "2  Single nodular goiter-right         No  Micropapillary    Uni-Focal  Low   \n",
            "3  Single nodular goiter-right         No  Micropapillary    Uni-Focal  Low   \n",
            "4          Multinodular goiter         No  Micropapillary  Multi-Focal  Low   \n",
            "\n",
            "     T   N   M Stage       Response Recurred  \n",
            "0  T1a  N0  M0     I  Indeterminate       No  \n",
            "1  T1a  N0  M0     I      Excellent       No  \n",
            "2  T1a  N0  M0     I      Excellent       No  \n",
            "3  T1a  N0  M0     I      Excellent       No  \n",
            "4  T1a  N0  M0     I      Excellent       No  \n"
          ]
        }
      ],
      "source": [
        "import pandas as pd\n",
        "import numpy as np\n",
        "import seaborn as sns\n",
        "import matplotlib.pyplot as plt\n",
        "from sklearn.linear_model import LogisticRegression\n",
        "from sklearn.model_selection import train_test_split\n",
        "from sklearn.preprocessing import StandardScaler\n",
        "from sklearn.tree import DecisionTreeClassifier\n",
        "from sklearn.ensemble import RandomForestClassifier\n",
        "from sklearn.svm import SVC\n",
        "from sklearn.neighbors import KNeighborsClassifier\n",
        "from sklearn.naive_bayes import GaussianNB\n",
        "from imblearn.over_sampling import SMOTE\n",
        "from sklearn.metrics import roc_auc_score\n",
        "from sklearn.metrics import classification_report\n",
        "import seaborn as sns\n",
        "from sklearn.metrics import precision_recall_curve, auc\n",
        "from sklearn.model_selection import cross_val_score\n",
        "from sklearn.metrics import confusion_matrix, ConfusionMatrixDisplay\n",
        "from sklearn.metrics import recall_score\n",
        "from sklearn.metrics import precision_score\n",
        "from sklearn.utils import resample\n",
        "from sklearn.preprocessing import StandardScaler\n",
        "from sklearn.decomposition import PCA\n",
        "\n",
        "\n",
        "\n",
        "\n",
        "\n",
        "df=pd.read_csv('/content/Thyroid_Diff.csv') # Extract raw data\n",
        "\n",
        "print(df.head()) # Display first 5 observations\n"
      ]
    },
    {
      "cell_type": "markdown",
      "metadata": {
        "id": "1oPdl0PiFQ-U"
      },
      "source": [
        "# **(1.1)** Cleansing: Addressing missing values and outliers\n",
        "\n",
        "The missing values are entirely in the \"Response\" column referring to the patient's response to previous treatment for cancer and the missing values are numerous. Feature importance bar charts in later sections show that response to previous treatment is consistently ranked as one of the most important features across various classification models. We will impute these missing values using a K-nearest neighbours model after feature engineering.\n",
        "\n",
        "As for outliers, we will inspect the age column as it will be the only column that is not a rank-based or categorical. First, let's inspect how age is distributed so we can decide an appropriate method of outlier detection and removal.\n",
        "\n",
        "\n"
      ]
    },
    {
      "cell_type": "code",
      "execution_count": null,
      "metadata": {
        "colab": {
          "base_uri": "https://localhost:8080/",
          "height": 430
        },
        "id": "F2eE-VloNs4D",
        "outputId": "579963be-fa51-4fcc-c903-89491a8d2859"
      },
      "outputs": [
        {
          "data": {
            "image/png": "[encoded data removed]",
            "text/plain": [
              "<Figure size 640x480 with 1 Axes>"
            ]
          },
          "metadata": {},
          "output_type": "display_data"
        }
      ],
      "source": [
        "plt.hist(df['Age'],bins=50, color='red',edgecolor='black')\n",
        "plt.show()"
      ]
    },
    {
      "cell_type": "markdown",
      "metadata": {
        "id": "iz6CIxeNafJQ"
      },
      "source": [
        "This data is significantly skewed and doesn't appear normal. So we will use the IQR method for detection."
      ]
    },
    {
      "cell_type": "code",
      "execution_count": null,
      "metadata": {
        "colab": {
          "base_uri": "https://localhost:8080/",
          "height": 452
        },
        "id": "r1vvNMZOa2Rs",
        "outputId": "6e576a31-48ed-4f27-ff82-212d2bf13784"
      },
      "outputs": [
        {
          "data": {
            "image/png": "[encoded data removed]",
            "text/plain": [
              "<Figure size 640x480 with 1 Axes>"
            ]
          },
          "metadata": {},
          "output_type": "display_data"
        }
      ],
      "source": [
        "plt.boxplot(df['Age'])\n",
        "plt.title(\"Box plot for age data\")\n",
        "plt.show()"
      ]
    },
    {
      "cell_type": "markdown",
      "metadata": {
        "id": "i0x-wGRTa8tM"
      },
      "source": [
        "Our boxplot demonstrates that age does not have outliers."
      ]
    },
    {
      "cell_type": "markdown",
      "metadata": {
        "id": "o9KN8BYzZFKX"
      },
      "source": [
        "# **(1.2)** Encoding, ranking, and normalizing (some) features.\n",
        "\n",
        "*   Normalizing columns with a wide range of values like age. We will not normalize binary or rank-based features as we will only be using a few ranks for each rank-based feature. We want to maintain the distance between the ranks that we have assigned and not have it possibly distorted by normalization.\n",
        "*   Extracting binary features (e.g, 0 or 1)\n",
        "*   Extracting rank-based features (e.g, 1, 2, 3 ..)\n",
        "\n",
        "The logic behind the rankings will be detailed extensively.\n",
        "\n",
        "\n",
        "\n",
        "\n",
        "\n",
        "\n",
        "\n"
      ]
    },
    {
      "cell_type": "code",
      "execution_count": null,
      "metadata": {
        "collapsed": true,
        "id": "IlkA6RNlZWE4"
      },
      "outputs": [],
      "source": [
        "df['Age']=(df['Age']-df['Age'].mean())/df['Age'].std()\n"
      ]
    },
    {
      "cell_type": "markdown",
      "metadata": {
        "id": "8ujxc62UjntG"
      },
      "source": [
        "\n",
        "\n",
        "*   Assign binary features 0 or 1\n",
        "*   Hx means \"History of\"\n",
        "*   \"Recurred\" is whether thyroid cancer has recurred or not\n",
        "*   The \"M\" feature refers to metastasis\n",
        "*   \"Response\" refers to response to cancer treatments. \"Structural incomplete\" means there are bodily displays of the cancer's persistence. \"Biochemical incomplete\" means there are biochemical signatures of the cancer's persistence. The indicators of the persistence are irrelevant so they both get a value of 1 for persistence. \"Excellent\" gets 0.\n",
        "*  \"N\" represents how much the cancer has spread specifically in terms of what lymph nodes it has spread to. \"N0\" means there is no spread to nearby lymph nodes. \"N1a\" means there is spread to nearby lymph nodes but still contained in the central region. \"N1b\" means it has spread to the lateral neck. N0, N1a, N1b will be coded as 0,1,2, respectively.\n",
        "\n",
        "\n",
        "\n",
        "\n",
        "\n",
        "\n"
      ]
    },
    {
      "cell_type": "code",
      "execution_count": null,
      "metadata": {
        "colab": {
          "base_uri": "https://localhost:8080/"
        },
        "collapsed": true,
        "id": "3jwbOTeqkBRJ",
        "outputId": "9fb9d735-3a98-4b81-96ab-11f5429174ff"
      },
      "outputs": [
        {
          "name": "stdout",
          "output_type": "stream",
          "text": [
            "['Indeterminate' 0 1]\n"
          ]
        },
        {
          "name": "stderr",
          "output_type": "stream",
          "text": [
            "<ipython-input-75-6e68e0061b6c>:1: FutureWarning: Downcasting behavior in `replace` is deprecated and will be removed in a future version. To retain the old behavior, explicitly call `result.infer_objects(copy=False)`. To opt-in to the future behavior, set `pd.set_option('future.no_silent_downcasting', True)`\n",
            "  df['Gender']=df['Gender'].replace(['F','M'],[0,1])\n",
            "<ipython-input-75-6e68e0061b6c>:3: FutureWarning: Downcasting behavior in `replace` is deprecated and will be removed in a future version. To retain the old behavior, explicitly call `result.infer_objects(copy=False)`. To opt-in to the future behavior, set `pd.set_option('future.no_silent_downcasting', True)`\n",
            "  df['Smoking']=df['Smoking'].replace(['No','Yes'],[0,1])\n",
            "<ipython-input-75-6e68e0061b6c>:5: FutureWarning: Downcasting behavior in `replace` is deprecated and will be removed in a future version. To retain the old behavior, explicitly call `result.infer_objects(copy=False)`. To opt-in to the future behavior, set `pd.set_option('future.no_silent_downcasting', True)`\n",
            "  df['Hx Smoking']=df['Hx Smoking'].replace(['No','Yes'],[0,1])\n",
            "<ipython-input-75-6e68e0061b6c>:7: FutureWarning: Downcasting behavior in `replace` is deprecated and will be removed in a future version. To retain the old behavior, explicitly call `result.infer_objects(copy=False)`. To opt-in to the future behavior, set `pd.set_option('future.no_silent_downcasting', True)`\n",
            "  df['Hx Radiothreapy']=df['Hx Radiothreapy'].replace(['No','Yes'],[0,1])\n",
            "<ipython-input-75-6e68e0061b6c>:9: FutureWarning: Downcasting behavior in `replace` is deprecated and will be removed in a future version. To retain the old behavior, explicitly call `result.infer_objects(copy=False)`. To opt-in to the future behavior, set `pd.set_option('future.no_silent_downcasting', True)`\n",
            "  df['Recurred']=df['Recurred'].replace(['No', 'Yes'], [0,1])\n",
            "<ipython-input-75-6e68e0061b6c>:11: FutureWarning: Downcasting behavior in `replace` is deprecated and will be removed in a future version. To retain the old behavior, explicitly call `result.infer_objects(copy=False)`. To opt-in to the future behavior, set `pd.set_option('future.no_silent_downcasting', True)`\n",
            "  df['M']=df['M'].replace(['M0', 'M1'], [0,1])\n",
            "<ipython-input-75-6e68e0061b6c>:15: FutureWarning: Downcasting behavior in `replace` is deprecated and will be removed in a future version. To retain the old behavior, explicitly call `result.infer_objects(copy=False)`. To opt-in to the future behavior, set `pd.set_option('future.no_silent_downcasting', True)`\n",
            "  df['N']=df['N'].replace(['N0','N1a','N1b'],[0,1,2])\n"
          ]
        }
      ],
      "source": [
        "df['Gender']=df['Gender'].replace(['F','M'],[0,1])\n",
        "\n",
        "df['Smoking']=df['Smoking'].replace(['No','Yes'],[0,1])\n",
        "\n",
        "df['Hx Smoking']=df['Hx Smoking'].replace(['No','Yes'],[0,1])\n",
        "\n",
        "df['Hx Radiothreapy']=df['Hx Radiothreapy'].replace(['No','Yes'],[0,1])\n",
        "\n",
        "df['Recurred']=df['Recurred'].replace(['No', 'Yes'], [0,1])\n",
        "\n",
        "df['M']=df['M'].replace(['M0', 'M1'], [0,1])\n",
        "\n",
        "df['Response']=df['Response'].replace(['Structural Incomplete','Biochemical Incomplete', 'Excellent'], [1,1,0])\n",
        "\n",
        "df['N']=df['N'].replace(['N0','N1a','N1b'],[0,1,2])\n",
        "\n",
        "print(df['Response'].unique())"
      ]
    },
    {
      "cell_type": "markdown",
      "metadata": {
        "id": "5KJNTrO8m4yt"
      },
      "source": [
        "\n",
        "\n",
        "*   Thyroid function (or dysfunction) should be thought of purely in terms of\n",
        "magnitude, not direction. That is, the hypo-hyper distinction should not be treated as information. What is treated as information is the magnitude. That is, the clinical-subclinical distinction. Euthyroid means it is a healthy thyroid and gets a value of 0. Subclinical and clinical dysunction gets values of 1 and 2 respectively.\n",
        "\n",
        "* \"Risk\" is the risk of recurrence.\n",
        "*   \"T\" refers to the magnitude of the primary tumour which is ranked numeric-alphabetically.\n",
        "*   \"Focality\" is the number of distinct growths in the primary cancer site.\n",
        "*   \"Adenopathy\" is swelling of the lymph node. Here, we apply the same logic with ranking thyroid function/dysfunction. But with \"bilateral\", both directions suggest another order of magnitude. \"Extensive\" is the maximum rank.\n",
        "* \"Stage\" is the stage of the previous cancer\n",
        "*   \"Physical Examination\" is the kind of goiter found in a physical examination.\n",
        "*  \"Pathology\" is the type of cancer found. These could be ranked in terms of size and aggression, so I created two new features. \"Pathologic size\" is pathology ranked by size. \"Pathologic aggression\" is pathology ranked by aggression.\n",
        "\n",
        "\n",
        "\n",
        "\n",
        "\n",
        "\n",
        "\n",
        "\n",
        "\n",
        "\n"
      ]
    },
    {
      "cell_type": "code",
      "execution_count": null,
      "metadata": {
        "colab": {
          "base_uri": "https://localhost:8080/"
        },
        "collapsed": true,
        "id": "Aetm74wmndUx",
        "outputId": "ea321efd-7d68-4366-b3a6-5fe741e6074a"
      },
      "outputs": [
        {
          "name": "stderr",
          "output_type": "stream",
          "text": [
            "<ipython-input-76-459f6690c0c9>:1: FutureWarning: Downcasting behavior in `replace` is deprecated and will be removed in a future version. To retain the old behavior, explicitly call `result.infer_objects(copy=False)`. To opt-in to the future behavior, set `pd.set_option('future.no_silent_downcasting', True)`\n",
            "  df['Thyroid Function']=df['Thyroid Function'].replace(['Clinical Hypothyroidism', 'Subclinical Hypothyroidism', 'Euthyroid', 'Subclinical Hyperthyroidism','Clinical Hyperthyroidism'], [2,1,0,1,2])\n",
            "<ipython-input-76-459f6690c0c9>:6: FutureWarning: Downcasting behavior in `replace` is deprecated and will be removed in a future version. To retain the old behavior, explicitly call `result.infer_objects(copy=False)`. To opt-in to the future behavior, set `pd.set_option('future.no_silent_downcasting', True)`\n",
            "  df['Risk']=df['Risk'].replace(['Low', 'Intermediate', 'High'], [1,2,3])\n",
            "<ipython-input-76-459f6690c0c9>:8: FutureWarning: Downcasting behavior in `replace` is deprecated and will be removed in a future version. To retain the old behavior, explicitly call `result.infer_objects(copy=False)`. To opt-in to the future behavior, set `pd.set_option('future.no_silent_downcasting', True)`\n",
            "  df['T']=df['T'].replace(['T1a', 'T1b', 'T2a', 'T2', 'T2b', 'T3a', 'T3b', 'T4a', 'T4b'], range(1,10))\n",
            "<ipython-input-76-459f6690c0c9>:10: FutureWarning: Downcasting behavior in `replace` is deprecated and will be removed in a future version. To retain the old behavior, explicitly call `result.infer_objects(copy=False)`. To opt-in to the future behavior, set `pd.set_option('future.no_silent_downcasting', True)`\n",
            "  df['Focality']=df['Focality'].replace(['Uni-Focal','Multi-Focal'], [1,2])\n",
            "<ipython-input-76-459f6690c0c9>:12: FutureWarning: Downcasting behavior in `replace` is deprecated and will be removed in a future version. To retain the old behavior, explicitly call `result.infer_objects(copy=False)`. To opt-in to the future behavior, set `pd.set_option('future.no_silent_downcasting', True)`\n",
            "  df['Adenopathy']=df['Adenopathy'].replace(['No','Left','Right','Posterior','Bilateral','Extensive'],[1,2,2,2,3,4])\n",
            "<ipython-input-76-459f6690c0c9>:14: FutureWarning: Downcasting behavior in `replace` is deprecated and will be removed in a future version. To retain the old behavior, explicitly call `result.infer_objects(copy=False)`. To opt-in to the future behavior, set `pd.set_option('future.no_silent_downcasting', True)`\n",
            "  df['Stage']=df['Stage'].replace(['I', 'II', 'III', 'IVA', 'IVB'], range(1,6))\n",
            "<ipython-input-76-459f6690c0c9>:16: FutureWarning: Downcasting behavior in `replace` is deprecated and will be removed in a future version. To retain the old behavior, explicitly call `result.infer_objects(copy=False)`. To opt-in to the future behavior, set `pd.set_option('future.no_silent_downcasting', True)`\n",
            "  df['Physical Examination']=df['Physical Examination'].replace(['Normal','Single nodular goiter-right', 'Single nodular goiter-left', 'Diffuse goiter', 'Multinodular goiter'],[0,1,1,1,2])\n",
            "<ipython-input-76-459f6690c0c9>:22: FutureWarning: Downcasting behavior in `replace` is deprecated and will be removed in a future version. To retain the old behavior, explicitly call `result.infer_objects(copy=False)`. To opt-in to the future behavior, set `pd.set_option('future.no_silent_downcasting', True)`\n",
            "  df['Pathologic size']=df['Pathology'].replace(['Micropapillary', 'Papillary', 'Follicular', 'Hurthel cell'], [1,2,3,4])\n",
            "<ipython-input-76-459f6690c0c9>:24: FutureWarning: Downcasting behavior in `replace` is deprecated and will be removed in a future version. To retain the old behavior, explicitly call `result.infer_objects(copy=False)`. To opt-in to the future behavior, set `pd.set_option('future.no_silent_downcasting', True)`\n",
            "  df['Pathologic aggression']=df['Pathology'].replace(['Micropapillary', 'Papillary', 'Follicular', 'Hurthel cell'], [2,1,3,4])\n"
          ]
        }
      ],
      "source": [
        "df['Thyroid Function']=df['Thyroid Function'].replace(['Clinical Hypothyroidism', 'Subclinical Hypothyroidism', 'Euthyroid', 'Subclinical Hyperthyroidism','Clinical Hyperthyroidism'], [2,1,0,1,2])\n",
        "# Rename column\n",
        "df['Thyroid Dysfunction']=df['Thyroid Function']\n",
        "df=df.drop(columns='Thyroid Function', axis=1)\n",
        "\n",
        "df['Risk']=df['Risk'].replace(['Low', 'Intermediate', 'High'], [1,2,3])\n",
        "\n",
        "df['T']=df['T'].replace(['T1a', 'T1b', 'T2a', 'T2', 'T2b', 'T3a', 'T3b', 'T4a', 'T4b'], range(1,10))\n",
        "\n",
        "df['Focality']=df['Focality'].replace(['Uni-Focal','Multi-Focal'], [1,2])\n",
        "\n",
        "df['Adenopathy']=df['Adenopathy'].replace(['No','Left','Right','Posterior','Bilateral','Extensive'],[1,2,2,2,3,4])\n",
        "\n",
        "df['Stage']=df['Stage'].replace(['I', 'II', 'III', 'IVA', 'IVB'], range(1,6))\n",
        "\n",
        "df['Physical Examination']=df['Physical Examination'].replace(['Normal','Single nodular goiter-right', 'Single nodular goiter-left', 'Diffuse goiter', 'Multinodular goiter'],[0,1,1,1,2])\n",
        "\n",
        "df['Pathologic size']=df['Pathology']\n",
        "\n",
        "df['Pathologic aggression']=df['Pathology']\n",
        "\n",
        "df['Pathologic size']=df['Pathology'].replace(['Micropapillary', 'Papillary', 'Follicular', 'Hurthel cell'], [1,2,3,4])\n",
        "\n",
        "df['Pathologic aggression']=df['Pathology'].replace(['Micropapillary', 'Papillary', 'Follicular', 'Hurthel cell'], [2,1,3,4])\n",
        "\n",
        "\n",
        "df=df.drop(columns=['Pathology'])\n",
        "df.reset_index(inplace=True)\n"
      ]
    },
    {
      "cell_type": "code",
      "execution_count": null,
      "metadata": {
        "colab": {
          "base_uri": "https://localhost:8080/"
        },
        "collapsed": true,
        "id": "ip8AEbI8PZaH",
        "outputId": "2bd144e2-3878-46f1-8a8b-879819e269dc"
      },
      "outputs": [
        {
          "name": "stdout",
          "output_type": "stream",
          "text": [
            "   index       Age  Gender  Smoking  Hx Smoking  Hx Radiothreapy  \\\n",
            "0      0 -0.916241       0        0           0                0   \n",
            "1      1 -0.453721       0        0           1                0   \n",
            "2      2 -0.718018       0        0           0                0   \n",
            "3      3  1.396357       0        0           0                0   \n",
            "4      4  1.396357       0        0           0                0   \n",
            "\n",
            "   Physical Examination  Adenopathy  Focality  Risk  T  N  M  Stage  \\\n",
            "0                     1           1         1     1  1  0  0      1   \n",
            "1                     2           1         1     1  1  0  0      1   \n",
            "2                     1           1         1     1  1  0  0      1   \n",
            "3                     1           1         1     1  1  0  0      1   \n",
            "4                     2           1         2     1  1  0  0      1   \n",
            "\n",
            "        Response  Recurred  Thyroid Dysfunction  Pathologic size  \\\n",
            "0  Indeterminate         0                    0                1   \n",
            "1              0         0                    0                1   \n",
            "2              0         0                    0                1   \n",
            "3              0         0                    0                1   \n",
            "4              0         0                    0                1   \n",
            "\n",
            "   Pathologic aggression  \n",
            "0                      2  \n",
            "1                      2  \n",
            "2                      2  \n",
            "3                      2  \n",
            "4                      2  \n"
          ]
        }
      ],
      "source": [
        "print(df.head())"
      ]
    },
    {
      "cell_type": "markdown",
      "metadata": {
        "id": "FR1GRz5xIMOu"
      },
      "source": [
        "# **(1.3)** KNN Imputation\n",
        "\n",
        "Missing values in the \"Response\" representing response to previous cancer is represented by \"Indeterminate\". A new dataframe (named rdf) removing these missing values will be used to train the KNN imputer.\n",
        "\n",
        "We use KNN imputation because the final model shows that response to previous treatment is a serious predictor of recurrence. We can't just remove these missing values. The information is just too valuable."
      ]
    },
    {
      "cell_type": "code",
      "execution_count": null,
      "metadata": {
        "colab": {
          "base_uri": "https://localhost:8080/"
        },
        "id": "36ZPhf28N5Os",
        "outputId": "0c797d65-8d3f-402c-9df8-2046969cced0"
      },
      "outputs": [
        {
          "name": "stderr",
          "output_type": "stream",
          "text": [
            "<ipython-input-78-c24337d7da0e>:8: FutureWarning: Downcasting behavior in `replace` is deprecated and will be removed in a future version. To retain the old behavior, explicitly call `result.infer_objects(copy=False)`. To opt-in to the future behavior, set `pd.set_option('future.no_silent_downcasting', True)`\n",
            "  df['Response']=df['Response'].replace(['Indeterminate'], [KNN_imputer.predict(df.drop(columns=['Response', 'Recurred'],axis=1))])\n"
          ]
        }
      ],
      "source": [
        "KNN_imputer=KNeighborsClassifier()\n",
        "rdf=df[df['Response']!='Indeterminate'] #rdf means dataframe with removed values. This will be used to train the KNN_imputer\n",
        "\n",
        "yf=rdf['Response'].astype(int)\n",
        "Xf=rdf.drop(columns=['Response', 'Recurred']) # Both target and column used for imputation gets removed\n",
        "\n",
        "KNN_imputer.fit(Xf,yf)\n",
        "df['Response']=df['Response'].replace(['Indeterminate'], [KNN_imputer.predict(df.drop(columns=['Response', 'Recurred'],axis=1))])"
      ]
    },
    {
      "cell_type": "markdown",
      "metadata": {
        "id": "G9Glt7PH7YHm"
      },
      "source": [
        "# **(1.4)** Feature engineering: Introducing interaction and polynomial terms.\n",
        "\n",
        "Interactions between response, risk, and age will be explored in this model."
      ]
    },
    {
      "cell_type": "code",
      "execution_count": null,
      "metadata": {
        "id": "Lb4I7TOT9B_g"
      },
      "outputs": [],
      "source": [
        "df['Response x Age']=df['Response']*df['Age']\n",
        "df['Response x Age^2']=df['Response']*df['Age']**2\n",
        "df['Response x Risk']=df['Response']*df['Risk']\n",
        "df['Response x Risk^2']=df['Response']*df['Risk']**2\n",
        "df['Response x Age x Risk']=df['Response']*df['Age']*df['Risk']"
      ]
    },
    {
      "cell_type": "markdown",
      "metadata": {
        "id": "LcvHLCUSo8vO"
      },
      "source": [
        "# **(2)** Generating, analyzing, and selecting models.\n",
        "\n",
        "The costs of different kinds of misclassifications and the imbalance of classes will be discussed and used as a basis for a selection of a performance metric, and finally a model.\n",
        "\n",
        "\n",
        "\n"
      ]
    },
    {
      "cell_type": "markdown",
      "metadata": {
        "id": "xvYBnTtR1opQ"
      },
      "source": [
        "# **(2.1)** Generating the models and their performance metrics"
      ]
    },
    {
      "cell_type": "markdown",
      "metadata": {
        "id": "4BRrymT0G-rH"
      },
      "source": [
        "Define the features and target (recurrence of cancer)"
      ]
    },
    {
      "cell_type": "code",
      "execution_count": null,
      "metadata": {
        "id": "rkjUTS_F2myj"
      },
      "outputs": [],
      "source": [
        "from sklearn.model_selection import train_test_split\n",
        "\n",
        "y=df['Recurred']\n",
        "X=df.drop(columns=['Recurred'])\n",
        "\n"
      ]
    },
    {
      "cell_type": "markdown",
      "metadata": {
        "id": "TbINLJM9HGyo"
      },
      "source": [
        "Generate and fit the models. Then, save the performance metrics in a dataframe. The code used will be stored in a function \"get_results\" because it will be re-used after pruning the model based on feature importance."
      ]
    },
    {
      "cell_type": "code",
      "execution_count": null,
      "metadata": {
        "id": "ToqYBTzd3G6P"
      },
      "outputs": [],
      "source": [
        "\n",
        "\n",
        "def get_results(X,y, models_selected):\n",
        "\n",
        "  X_train, X_test, y_train, y_test = train_test_split(\n",
        "      X, y, test_size=0.3, random_state=42)\n",
        "\n",
        "\n",
        "  models = {\n",
        "      'Standard Logistic Regression': LogisticRegression(),\n",
        "      'Balanced Logistic Regression': LogisticRegression(class_weight='balanced'),\n",
        "     'Decision Tree': DecisionTreeClassifier(max_depth=3),\n",
        "     'Random Forest': RandomForestClassifier(n_estimators=300,max_depth=3),\n",
        "      'Linear SVM': SVC(kernel='linear', probability=True),\n",
        "      'Polynomial SVM': SVC(kernel='poly', degree=3, probability=True),\n",
        "      'Radial SVM': SVC(kernel='rbf', probability=True),\n",
        "      'K-Nearest Neighbors': KNeighborsClassifier(),\n",
        "      'Naive Bayes': GaussianNB(),\n",
        "      }\n",
        "\n",
        "\n",
        "  results=[]\n",
        "\n",
        "  for name, model in models.items():\n",
        "\n",
        "      if name in models_selected or models_selected=='all':\n",
        "\n",
        "\n",
        "        model.fit(X_train, y_train)\n",
        "        y_pred = model.predict(X_test)\n",
        "\n",
        "        class_report = classification_report(y_test, y_pred, output_dict=True)\n",
        "        y_pred_prob = model.predict_proba(X_test)[:, 1]\n",
        "\n",
        "        precision, recall, _ = precision_recall_curve(y_test, y_pred_prob)\n",
        "\n",
        "        pr_auc = auc(recall, precision)\n",
        "\n",
        "\n",
        "        results.append({\n",
        "            'Model': name,\n",
        "            'PR_AUC': pr_auc,\n",
        "            'Precision (Recurrence)': class_report['1']['precision'],\n",
        "            'Precision (Non-recurrence)': class_report['0']['precision'],\n",
        "            'Recall (Recurrence)': class_report['1']['recall'],\n",
        "            'Recall (Non-recurrence)': class_report['0']['recall'],\n",
        "            'F1-Score (Recurrence)': class_report['1']['f1-score'],\n",
        "            'F1-Score (Non-recurrence)': class_report['0']['f1-score'],\n",
        "            #'0.8*Recall + 0.2*Precision': class_report['1']['recall']*0.8+class_report['1']['precision']*0.2\n",
        "            #'Classification Report': class_report\n",
        "            })\n",
        "\n",
        "\n",
        "  results_df = pd.DataFrame(results)\n",
        "  #plt.show()\n",
        "  return results_df\n"
      ]
    },
    {
      "cell_type": "markdown",
      "metadata": {
        "id": "FuVThuuKH_k0"
      },
      "source": [
        "Display the precision, recall, F1-score for each class in each model in the holdout set."
      ]
    },
    {
      "cell_type": "code",
      "execution_count": null,
      "metadata": {
        "colab": {
          "base_uri": "https://localhost:8080/"
        },
        "id": "BnFvzp8eIL8q",
        "outputId": "76717e23-e30a-4ff5-e106-d856bb257fa0"
      },
      "outputs": [
        {
          "name": "stderr",
          "output_type": "stream",
          "text": [
            "/usr/local/lib/python3.11/dist-packages/sklearn/linear_model/_logistic.py:465: ConvergenceWarning: lbfgs failed to converge (status=1):\n",
            "STOP: TOTAL NO. of ITERATIONS REACHED LIMIT.\n",
            "\n",
            "Increase the number of iterations (max_iter) or scale the data as shown in:\n",
            "    https://scikit-learn.org/stable/modules/preprocessing.html\n",
            "Please also refer to the documentation for alternative solver options:\n",
            "    https://scikit-learn.org/stable/modules/linear_model.html#logistic-regression\n",
            "  n_iter_i = _check_optimize_result(\n",
            "/usr/local/lib/python3.11/dist-packages/sklearn/linear_model/_logistic.py:465: ConvergenceWarning: lbfgs failed to converge (status=1):\n",
            "STOP: TOTAL NO. of ITERATIONS REACHED LIMIT.\n",
            "\n",
            "Increase the number of iterations (max_iter) or scale the data as shown in:\n",
            "    https://scikit-learn.org/stable/modules/preprocessing.html\n",
            "Please also refer to the documentation for alternative solver options:\n",
            "    https://scikit-learn.org/stable/modules/linear_model.html#logistic-regression\n",
            "  n_iter_i = _check_optimize_result(\n"
          ]
        },
        {
          "name": "stdout",
          "output_type": "stream",
          "text": [
            "                          Model    PR_AUC  Precision (Recurrence)  \\\n",
            "0  Standard Logistic Regression  0.991324                0.935484   \n",
            "1  Balanced Logistic Regression  0.993166                0.939394   \n",
            "2                 Decision Tree  0.946592                0.906250   \n",
            "3                 Random Forest  0.979408                0.937500   \n",
            "4                    Linear SVM  0.993530                0.967742   \n",
            "5                Polynomial SVM  0.862002                0.923077   \n",
            "6                    Radial SVM  0.791011                0.920000   \n",
            "7           K-Nearest Neighbors  0.971573                0.937500   \n",
            "8                   Naive Bayes  0.951869                0.911765   \n",
            "\n",
            "   Precision (Non-recurrence)  Recall (Recurrence)  Recall (Non-recurrence)  \\\n",
            "0                    0.964286              0.90625                 0.975904   \n",
            "1                    0.987805              0.96875                 0.975904   \n",
            "2                    0.963855              0.90625                 0.963855   \n",
            "3                    0.975904              0.93750                 0.975904   \n",
            "4                    0.976190              0.93750                 0.987952   \n",
            "5                    0.910112              0.75000                 0.975904   \n",
            "6                    0.900000              0.71875                 0.975904   \n",
            "7                    0.975904              0.93750                 0.975904   \n",
            "8                    0.987654              0.96875                 0.963855   \n",
            "\n",
            "   F1-Score (Recurrence)  F1-Score (Non-recurrence)  \n",
            "0               0.920635                   0.970060  \n",
            "1               0.953846                   0.981818  \n",
            "2               0.906250                   0.963855  \n",
            "3               0.937500                   0.975904  \n",
            "4               0.952381                   0.982036  \n",
            "5               0.827586                   0.941860  \n",
            "6               0.807018                   0.936416  \n",
            "7               0.937500                   0.975904  \n",
            "8               0.939394                   0.975610  \n"
          ]
        }
      ],
      "source": [
        "print(get_results(X,y, 'all'))"
      ]
    },
    {
      "cell_type": "markdown",
      "metadata": {
        "id": "5Y3w9XUOWzqy"
      },
      "source": [
        "# **(2.2)** Analyzing performance metrics\n",
        "\n",
        "High precision, recall, and F1-score for both classes is consistent across all the classification models.\n",
        "\n",
        "High precision and recall for both classes conveys that our models rarely generate false negatives or false positives. **It has powerful distinguishing ability**."
      ]
    },
    {
      "cell_type": "markdown",
      "metadata": {
        "id": "Yfi1KI9KcMMD"
      },
      "source": [
        "# **(2.3)** How exactly should we select a model?\n",
        "\n",
        "There is considerable imbalance in our data where barely 30% of our target data are recurrence of cancer, and a focus on the positive (recurrence) class is called for by the egregious cost of a false negative. On this basis, we will use the PR_AUC metric to select a model. **The model with the highest area under the precision-recall curve is the linear support vector machine**."
      ]
    },
    {
      "cell_type": "markdown",
      "metadata": {
        "id": "7Yotfp4hVP8j"
      },
      "source": [
        "# **(3)** Feature importance and model pruning.\n",
        "\n",
        "We will use bootstrapping to simulate the distribution of the coefficient estimates for the linear SVM. Any coefficient whose 95% confidence CI doesn't contain zero will stay in the model."
      ]
    },
    {
      "cell_type": "code",
      "execution_count": null,
      "metadata": {
        "id": "eEV5ZOkZao6r"
      },
      "outputs": [],
      "source": [
        "X=X.drop(columns=['index'])\n",
        "\n",
        "X_train, X_test, y_train, y_test = train_test_split(\n",
        "      X, y, test_size=0.3, random_state=42)\n",
        "\n",
        "alpha=0.05\n",
        "estimate_matrix=[]\n",
        "n_estimates=1000\n",
        "model=SVC(kernel='linear')\n",
        "\n",
        "for i in range(n_estimates):\n",
        "\n",
        "  X_resample,y_resample=resample(X_train,y_train, replace=True)\n",
        "\n",
        "  model.fit(X_resample,y_resample)\n",
        "\n",
        "  coefficient_vector=model.coef_[0]\n",
        "\n",
        "  estimate_matrix.append(coefficient_vector)\n",
        "\n",
        "\n",
        "\n",
        "coef_distributions=np.transpose(estimate_matrix) # If each row of estimate_matrix is a coefficient vector, then each row of the transpose is the distribution of a specific coefficient estimate\n",
        "feature_names=X_train.keys()\n",
        "percent=(1-alpha)*100\n",
        "low_percentile=(alpha/2)*100\n",
        "upper_percentile=(1-alpha/2)*100\n",
        "kept_columns=[]\n",
        "point_estimates=[]\n",
        "index=0\n",
        "\n",
        "\n",
        "for distribution in coef_distributions:\n",
        "  low_bound=np.percentile(distribution, low_percentile)\n",
        "  upper_bound=np.percentile(distribution, upper_percentile)\n",
        "  pt_est=round((low_bound + upper_bound) / 2, 3)\n",
        "\n",
        "  if low_bound*upper_bound >=0 and pt_est !=0:\n",
        "    kept_columns.append(feature_names[index])\n",
        "    point_estimates.append(pt_est)\n",
        "\n",
        "  index=index+1\n",
        "\n",
        "\n"
      ]
    },
    {
      "cell_type": "code",
      "execution_count": null,
      "metadata": {
        "colab": {
          "base_uri": "https://localhost:8080/"
        },
        "id": "2TenBNLMfxtz",
        "outputId": "cbcb1d0e-ac8c-4793-eae9-1cdc2d7cff79"
      },
      "outputs": [
        {
          "name": "stdout",
          "output_type": "stream",
          "text": [
            "Features kept with their coefficients: \n",
            "-----------------------------------------------------------------\n",
            "Gender  = 1.17\n",
            "Smoking  = -0.678\n",
            "N  = 0.784\n",
            "M  = 0.327\n",
            "Response  = 0.84\n",
            "Response x Risk  = 0.69\n",
            "Response x Risk^2  = 0.483\n",
            "----------------------------------------------------------------- \n",
            "\n",
            "        Model    PR_AUC  Precision (Recurrence)  Precision (Non-recurrence)  \\\n",
            "0  Linear SVM  0.971411                0.935484                    0.964286   \n",
            "\n",
            "   Recall (Recurrence)  Recall (Non-recurrence)  F1-Score (Recurrence)  \\\n",
            "0              0.90625                 0.975904               0.920635   \n",
            "\n",
            "   F1-Score (Non-recurrence)  \n",
            "0                    0.97006  \n"
          ]
        }
      ],
      "source": [
        "X_new=X[kept_columns]\n",
        "\n",
        "\n",
        "print('Features kept with their coefficients: \\n'+'-----------------------------------------------------------------')\n",
        "\n",
        "for k in range(len(kept_columns)):\n",
        "  print(kept_columns[k], ' = '+str(point_estimates[k]))\n",
        "\n",
        "new_results=get_results(X_new,y, ['Linear SVM'])\n",
        "print('-----------------------------------------------------------------', '\\n')\n",
        "\n",
        "print(new_results)\n"
      ]
    },
    {
      "cell_type": "markdown",
      "metadata": {
        "id": "-qQnExgcKGpd"
      },
      "source": []
    },
    {
      "cell_type": "markdown",
      "metadata": {
        "id": "-0na47g8pWCK"
      },
      "source": [
        "# **(4)** Practical meaning of the model\n",
        "\n",
        "\n",
        "The attributes that are predictive of recurring thyroid cancer are gender, smoking, the magnitude of previous cancer spread in terms of lymph nodes involved, metastasis, response to previous cancer, and risk.\n",
        "\n",
        "The effect that previous response has on recurrence is dependent on risk. Specifically, the effect of previous response actually accelerates with risk given we have a significant Response x Risk and Response x Risk^2 effect."
      ]
    }
  ],
  "metadata": {
    "colab": {
      "provenance": []
    },
    "kernelspec": {
      "display_name": "Python 3",
      "name": "python3"
    },
    "language_info": {
      "name": "python"
    }
  },
  "nbformat": 4,
  "nbformat_minor": 0
}
